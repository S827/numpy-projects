{
 "cells": [
  {
   "cell_type": "code",
   "execution_count": 1,
   "id": "efb0a057-0b13-443b-957b-6ee8c896a7f4",
   "metadata": {},
   "outputs": [],
   "source": [
    "import numpy as np"
   ]
  },
  {
   "cell_type": "markdown",
   "id": "7647aa25-f181-4ade-a480-4752ad01a37f",
   "metadata": {},
   "source": [
    "1. Create random dataset"
   ]
  },
  {
   "cell_type": "code",
   "execution_count": 2,
   "id": "cf4d3137-7ff5-45e7-bd14-24a4cc2d270e",
   "metadata": {},
   "outputs": [
    {
     "name": "stdout",
     "output_type": "stream",
     "text": [
      "Dataset: [36  9 67 50 66  5  6 10 76 12 22 68 68 39 78 35 84 27 39 69 49 70 51 99\n",
      " 24 51 53 16 11 36 52 13 94 73 83 39 55 60 79 22 48 30 48 24  2 23 48 75\n",
      "  3  7 92 30 54 71 31 54 18 11 87 66 57 82 99 75 96 37 87 84  0 32 40 85\n",
      " 73 13 46 62 22 39 34 22 16 29 59 74 40 71 80  9 38 15 12 93 75 93 73 46\n",
      " 49 94 16  7]\n"
     ]
    }
   ],
   "source": [
    "# generate random data : 100 samples wiith values between 0 and 100\n",
    "data = np.random.randint(0, 100, size=100)\n",
    "print(\"Dataset:\", data)"
   ]
  },
  {
   "cell_type": "markdown",
   "id": "21c737a7-3334-47fc-b0cd-3da525e645f0",
   "metadata": {},
   "source": [
    "2. Calculate Mean statistics"
   ]
  },
  {
   "cell_type": "code",
   "execution_count": 3,
   "id": "b89fa8b6-dc64-4cdb-b091-1c3d150f1b6c",
   "metadata": {},
   "outputs": [
    {
     "name": "stdout",
     "output_type": "stream",
     "text": [
      "Mean: 47.92\n"
     ]
    }
   ],
   "source": [
    "mean = np.mean(data)\n",
    "print(f\"Mean: {mean}\")"
   ]
  },
  {
   "cell_type": "markdown",
   "id": "970ee3ef-0edc-41dc-9286-8e3eb5183cf4",
   "metadata": {},
   "source": [
    "3. Median"
   ]
  },
  {
   "cell_type": "code",
   "execution_count": 6,
   "id": "14ca3ae0-7271-4776-b90c-f7a9a288eb56",
   "metadata": {},
   "outputs": [
    {
     "name": "stdout",
     "output_type": "stream",
     "text": [
      "Median: 48.0\n"
     ]
    }
   ],
   "source": [
    "median = np.median(data)\n",
    "print(f\"Median: {(median)}\")"
   ]
  },
  {
   "cell_type": "markdown",
   "id": "3eed5154-c9b4-4efb-80d5-55ab34f3de59",
   "metadata": {},
   "source": [
    "3. Standard deviation\n"
   ]
  },
  {
   "cell_type": "code",
   "execution_count": 7,
   "id": "4ffeedff-6770-4e8e-8120-60e963a775a9",
   "metadata": {},
   "outputs": [
    {
     "name": "stdout",
     "output_type": "stream",
     "text": [
      "standard deviation: 28.03415060243488\n"
     ]
    }
   ],
   "source": [
    "std_dev = np.std(data)\n",
    "print(f\"standard deviation: {std_dev}\")"
   ]
  },
  {
   "cell_type": "markdown",
   "id": "ed527b59-37e0-4227-a354-c65751c4cd16",
   "metadata": {},
   "source": [
    "4. Calculate Percentiles"
   ]
  },
  {
   "cell_type": "code",
   "execution_count": 8,
   "id": "f73c41fb-1ffa-40f8-aaf5-2e7461679d63",
   "metadata": {},
   "outputs": [
    {
     "name": "stdout",
     "output_type": "stream",
     "text": [
      "25th percentile: 22.75\n",
      "75th percentile: 73.0\n"
     ]
    }
   ],
   "source": [
    "percentile_25 = np.percentile(data, 25)\n",
    "percentile_75 = np.percentile(data, 75)\n",
    "\n",
    "print(f\"25th percentile: {percentile_25}\")\n",
    "print(f\"75th percentile: {percentile_75}\")"
   ]
  },
  {
   "cell_type": "markdown",
   "id": "98b98696-05cf-4bd8-bef0-d4a8e90285a0",
   "metadata": {},
   "source": [
    "5. Visualize the data"
   ]
  },
  {
   "cell_type": "code",
   "execution_count": 10,
   "id": "cc27a15c-d062-4408-a170-2dc0de7305e5",
   "metadata": {},
   "outputs": [
    {
     "name": "stdout",
     "output_type": "stream",
     "text": [
      "Defaulting to user installation because normal site-packages is not writeable\n",
      "Collecting matplotlib\n",
      "  Downloading matplotlib-3.9.2-cp310-cp310-manylinux_2_17_x86_64.manylinux2014_x86_64.whl (8.3 MB)\n",
      "\u001b[2K     \u001b[38;2;114;156;31m━━━━━━━━━━━━━━━━━━━━━━━━━━━━━━━━━━━━━━━━\u001b[0m \u001b[32m8.3/8.3 MB\u001b[0m \u001b[31m1.4 MB/s\u001b[0m eta \u001b[36m0:00:00\u001b[0mm eta \u001b[36m0:00:01\u001b[0m[36m0:00:01\u001b[0m0m\n",
      "\u001b[?25hRequirement already satisfied: packaging>=20.0 in /home/div/.local/lib/python3.10/site-packages (from matplotlib) (24.1)\n",
      "Collecting fonttools>=4.22.0\n",
      "  Downloading fonttools-4.53.1-cp310-cp310-manylinux_2_17_x86_64.manylinux2014_x86_64.whl (4.6 MB)\n",
      "\u001b[2K     \u001b[38;2;114;156;31m━━━━━━━━━━━━━━━━━━━━━━━━━━━━━━━━━━━━━━━━\u001b[0m \u001b[32m4.6/4.6 MB\u001b[0m \u001b[31m1.4 MB/s\u001b[0m eta \u001b[36m0:00:00\u001b[0mm eta \u001b[36m0:00:01\u001b[0m[36m0:00:01\u001b[0m\n",
      "\u001b[?25hRequirement already satisfied: python-dateutil>=2.7 in /home/div/.local/lib/python3.10/site-packages (from matplotlib) (2.9.0.post0)\n",
      "Collecting contourpy>=1.0.1\n",
      "  Downloading contourpy-1.3.0-cp310-cp310-manylinux_2_17_x86_64.manylinux2014_x86_64.whl (322 kB)\n",
      "\u001b[2K     \u001b[38;2;114;156;31m━━━━━━━━━━━━━━━━━━━━━━━━━━━━━━━━━━━━━━━\u001b[0m \u001b[32m322.0/322.0 KB\u001b[0m \u001b[31m1.6 MB/s\u001b[0m eta \u001b[36m0:00:00\u001b[0m MB/s\u001b[0m eta \u001b[36m0:00:01\u001b[0m:01\u001b[0m\n",
      "\u001b[?25hRequirement already satisfied: pillow>=8 in /usr/lib/python3/dist-packages (from matplotlib) (9.0.1)\n",
      "Collecting kiwisolver>=1.3.1\n",
      "  Downloading kiwisolver-1.4.7-cp310-cp310-manylinux_2_12_x86_64.manylinux2010_x86_64.whl (1.6 MB)\n",
      "\u001b[2K     \u001b[38;2;114;156;31m━━━━━━━━━━━━━━━━━━━━━━━━━━━━━━━━━━━━━━━━\u001b[0m \u001b[32m1.6/1.6 MB\u001b[0m \u001b[31m1.4 MB/s\u001b[0m eta \u001b[36m0:00:00\u001b[0m[36m0:00:01\u001b[0m[36m0:00:01\u001b[0m:01\u001b[0m\n",
      "\u001b[?25hCollecting cycler>=0.10\n",
      "  Downloading cycler-0.12.1-py3-none-any.whl (8.3 kB)\n",
      "Requirement already satisfied: numpy>=1.23 in /home/div/.local/lib/python3.10/site-packages (from matplotlib) (2.1.1)\n",
      "Requirement already satisfied: pyparsing>=2.3.1 in /usr/lib/python3/dist-packages (from matplotlib) (2.4.7)\n",
      "Requirement already satisfied: six>=1.5 in /usr/lib/python3/dist-packages (from python-dateutil>=2.7->matplotlib) (1.16.0)\n",
      "Installing collected packages: kiwisolver, fonttools, cycler, contourpy, matplotlib\n",
      "\u001b[33m  WARNING: The scripts fonttools, pyftmerge, pyftsubset and ttx are installed in '/home/div/.local/bin' which is not on PATH.\n",
      "  Consider adding this directory to PATH or, if you prefer to suppress this warning, use --no-warn-script-location.\u001b[0m\u001b[33m\n",
      "\u001b[0mSuccessfully installed contourpy-1.3.0 cycler-0.12.1 fonttools-4.53.1 kiwisolver-1.4.7 matplotlib-3.9.2\n",
      "Note: you may need to restart the kernel to use updated packages.\n"
     ]
    }
   ],
   "source": [
    "pip install matplotlib\n"
   ]
  },
  {
   "cell_type": "code",
   "execution_count": 11,
   "id": "23e32b54-3a73-4e92-aa5a-17bfdd223682",
   "metadata": {},
   "outputs": [
    {
     "data": {
      "image/png": "[encoded data removed]",
      "text/plain": [
       "<Figure size 640x480 with 1 Axes>"
      ]
     },
     "metadata": {},
     "output_type": "display_data"
    }
   ],
   "source": [
    "import matplotlib.pyplot as plt\n",
    "\n",
    "plt.hist(data, bins=10, alpha=0.7, color='blue')\n",
    "plt.title('Histogram of dataset')\n",
    "plt.xlabel('value')\n",
    "plt.ylabel('frequency')\n",
    "plt.show()"
   ]
  },
  {
   "cell_type": "code",
   "execution_count": null,
   "id": "5f1f4c60-71d7-4bb8-bcae-3e60d5b8a415",
   "metadata": {},
   "outputs": [],
   "source": []
  }
 ],
 "metadata": {
  "kernelspec": {
   "display_name": "Python 3 (ipykernel)",
   "language": "python",
   "name": "python3"
  },
  "language_info": {
   "codemirror_mode": {
    "name": "ipython",
    "version": 3
   },
   "file_extension": ".py",
   "mimetype": "text/x-python",
   "name": "python",
   "nbconvert_exporter": "python",
   "pygments_lexer": "ipython3",
   "version": "3.10.12"
  }
 },
 "nbformat": 4,
 "nbformat_minor": 5
}
