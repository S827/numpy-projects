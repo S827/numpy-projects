{
 "cells": [
  {
   "cell_type": "code",
   "execution_count": 4,
   "id": "641ad47b-2e02-4341-bc4b-d7f0afc4e3b5",
   "metadata": {},
   "outputs": [],
   "source": [
    "#NumPy is the core library for numerical computations in Python. We’ll use it to create and manipulate matrices.\n",
    "import numpy as np"
   ]
  },
  {
   "cell_type": "code",
   "execution_count": 5,
   "id": "f9135034-9a23-4a28-8392-4b41f3152505",
   "metadata": {},
   "outputs": [
    {
     "data": {
      "text/plain": [
       "array([[1, 2, 3],\n",
       "       [4, 5, 6],\n",
       "       [7, 8, 9]])"
      ]
     },
     "execution_count": 5,
     "metadata": {},
     "output_type": "execute_result"
    }
   ],
   "source": [
    "# Create a 3x3 matrix:\n",
    "matrix_1 = np.array([[1,2,3],[4,5,6],[7,8,9]])\n",
    "matrix_1"
   ]
  },
  {
   "cell_type": "markdown",
   "id": "4a94b921-f63a-48f9-a625-79efbb5971a7",
   "metadata": {},
   "source": [
    "### 3. Perform Matrix Addition:"
   ]
  },
  {
   "cell_type": "code",
   "execution_count": 11,
   "id": "29b5c7d7-e159-4973-86f9-f6fb66d81b3f",
   "metadata": {},
   "outputs": [
    {
     "data": {
      "text/plain": [
       "array([[9, 8, 7],\n",
       "       [6, 5, 4],\n",
       "       [3, 2, 1]])"
      ]
     },
     "execution_count": 11,
     "metadata": {},
     "output_type": "execute_result"
    }
   ],
   "source": [
    "matrix_2 = np.array([[9, 8, 7], [6, 5, 4], [3, 2, 1]])\n",
    "matrix_2"
   ]
  },
  {
   "cell_type": "code",
   "execution_count": 12,
   "id": "41edb0e4-df61-4fd6-9d29-c4519abc3360",
   "metadata": {},
   "outputs": [
    {
     "data": {
      "text/plain": [
       "array([[10, 10, 10],\n",
       "       [10, 10, 10],\n",
       "       [10, 10, 10]])"
      ]
     },
     "execution_count": 12,
     "metadata": {},
     "output_type": "execute_result"
    }
   ],
   "source": [
    "matrix_sum = matrix_1 + matrix_2\n",
    "matrix_sum"
   ]
  },
  {
   "cell_type": "markdown",
   "id": "2689788d-00f8-4463-a2a2-4ed9f896fce2",
   "metadata": {},
   "source": [
    "### 4. Matrix multiplication"
   ]
  },
  {
   "cell_type": "markdown",
   "id": "0585e3f1-2faf-4d29-b6d4-2e44cdfebc75",
   "metadata": {},
   "source": [
    "#### 1. Element wise multiplication"
   ]
  },
  {
   "cell_type": "code",
   "execution_count": 8,
   "id": "fc14d0d0-9de5-4f53-8ed2-c2fc7a64d87f",
   "metadata": {},
   "outputs": [
    {
     "data": {
      "text/plain": [
       "array([[ 9, 16, 21],\n",
       "       [24, 25, 24],\n",
       "       [21, 16,  9]])"
      ]
     },
     "execution_count": 8,
     "metadata": {},
     "output_type": "execute_result"
    }
   ],
   "source": [
    "element_wise_product = matrix_1 * matrix_2\n",
    "element_wise_product"
   ]
  },
  {
   "cell_type": "markdown",
   "id": "8058e285-fcdc-4d38-9ea9-2e02db3652b6",
   "metadata": {},
   "source": [
    "#### 2. Matrix multiplication (dot product)"
   ]
  },
  {
   "cell_type": "code",
   "execution_count": 9,
   "id": "b86fc581-76c1-4cca-ac0e-071159ead958",
   "metadata": {},
   "outputs": [
    {
     "data": {
      "text/plain": [
       "array([[ 30,  24,  18],\n",
       "       [ 84,  69,  54],\n",
       "       [138, 114,  90]])"
      ]
     },
     "execution_count": 9,
     "metadata": {},
     "output_type": "execute_result"
    }
   ],
   "source": [
    "dot_product = matrix_1 @ matrix_2 # mat1 1st row * mat2 1st col, mat1 1st row * mat2 2nd col ....\n",
    "dot_product"
   ]
  },
  {
   "cell_type": "code",
   "execution_count": 10,
   "id": "19d10566-b3b6-4e40-9381-ccf7c2c533de",
   "metadata": {},
   "outputs": [
    {
     "data": {
      "text/plain": [
       "array([[ 30,  24,  18],\n",
       "       [ 84,  69,  54],\n",
       "       [138, 114,  90]])"
      ]
     },
     "execution_count": 10,
     "metadata": {},
     "output_type": "execute_result"
    }
   ],
   "source": [
    "dot_prod = np.dot(matrix_1, matrix_2)\n",
    "dot_prod"
   ]
  },
  {
   "cell_type": "markdown",
   "id": "60ccb1df-4ea4-4361-9b04-89dca2d9bf72",
   "metadata": {},
   "source": [
    "### 5. Matrix Transpose"
   ]
  },
  {
   "cell_type": "markdown",
   "id": "7fc625d3-2e23-4856-be0c-cebe57f05e13",
   "metadata": {},
   "source": [
    "Transpose matrix_1 using both .T and np.transpose():\n"
   ]
  },
  {
   "cell_type": "code",
   "execution_count": 14,
   "id": "dc417e91-2d67-43a1-a7e1-e38bc6eeacab",
   "metadata": {},
   "outputs": [
    {
     "name": "stdout",
     "output_type": "stream",
     "text": [
      "[[1 4 7]\n",
      " [2 5 8]\n",
      " [3 6 9]]\n",
      "[[9 6 3]\n",
      " [8 5 2]\n",
      " [7 4 1]]\n"
     ]
    }
   ],
   "source": [
    "transpose_1 = matrix_1.T\n",
    "transpose_2 = np.transpose(matrix_2)\n",
    "print(transpose_1)\n",
    "print(transpose_2)"
   ]
  },
  {
   "cell_type": "code",
   "execution_count": 15,
   "id": "4fe22b67-d60f-425a-a211-adf66d58b794",
   "metadata": {},
   "outputs": [
    {
     "data": {
      "text/plain": [
       "array([[12,  6,  7],\n",
       "       [18,  9, 11],\n",
       "       [24, 12, 15]])"
      ]
     },
     "execution_count": 15,
     "metadata": {},
     "output_type": "execute_result"
    }
   ],
   "source": [
    "m1 = np.array([[1,4,1],[2,5,2],[3,6,3]])\n",
    "m2 = np.array([[1,1,1], [2,1,1], [3,1,2]])\n",
    "m1@m2"
   ]
  },
  {
   "cell_type": "code",
   "execution_count": 16,
   "id": "dddd93f5-1f7b-4f58-aa02-f188660e36fa",
   "metadata": {},
   "outputs": [
    {
     "data": {
      "text/plain": [
       "array([[1, 2, 3],\n",
       "       [4, 5, 6],\n",
       "       [1, 2, 3]])"
      ]
     },
     "execution_count": 16,
     "metadata": {},
     "output_type": "execute_result"
    }
   ],
   "source": [
    "m1.T"
   ]
  },
  {
   "cell_type": "markdown",
   "id": "4b5b7a40-2bcd-4082-8569-b753ec64ff3e",
   "metadata": {},
   "source": [
    "### 6. Matrix Inversion"
   ]
  },
  {
   "cell_type": "code",
   "execution_count": 18,
   "id": "0edc2f97-4411-40b9-a1f6-80388bcdc385",
   "metadata": {},
   "outputs": [
    {
     "data": {
      "text/plain": [
       "array([[-2. ,  1.5],\n",
       "       [ 1. , -0.5]])"
      ]
     },
     "execution_count": 18,
     "metadata": {},
     "output_type": "execute_result"
    }
   ],
   "source": [
    "mat_2x2 = np.array([[1, 3], [2, 4]])\n",
    "inv_mat_2x2 = np.linalg.inv(mat_2x2) # Ainv = adjA/|A| = Transpose of cofactor matrix / |A|\n",
    "inv_mat_2x2"
   ]
  },
  {
   "cell_type": "code",
   "execution_count": 19,
   "id": "f5a302d1-800d-407d-8c27-aff8c96d116d",
   "metadata": {},
   "outputs": [
    {
     "data": {
      "text/plain": [
       "array([[-24.,  18.,   5.],\n",
       "       [ 20., -15.,  -4.],\n",
       "       [ -5.,   4.,   1.]])"
      ]
     },
     "execution_count": 19,
     "metadata": {},
     "output_type": "execute_result"
    }
   ],
   "source": [
    "mat_3x3 = np.array([[1,2,3], [0,1,4], [5,6,0]])\n",
    "inv_mat_3x3 = np.linalg.inv(mat_3x3)\n",
    "inv_mat_3x3"
   ]
  },
  {
   "cell_type": "markdown",
   "id": "cd41e775-d3f0-41b3-a172-29c1178bc898",
   "metadata": {},
   "source": [
    "### 7. Determinant of a matrix"
   ]
  },
  {
   "cell_type": "code",
   "execution_count": 20,
   "id": "e9022641-54f1-485a-8265-c17628ec0dfe",
   "metadata": {},
   "outputs": [
    {
     "data": {
      "text/plain": [
       "np.float64(0.9999999999999964)"
      ]
     },
     "execution_count": 20,
     "metadata": {},
     "output_type": "execute_result"
    }
   ],
   "source": [
    "det_mat_3x3 = np.linalg.det(mat_3x3)\n",
    "det_mat_3x3"
   ]
  },
  {
   "cell_type": "markdown",
   "id": "db8ef714-6860-4a5c-91ff-145db67114b1",
   "metadata": {},
   "source": [
    "## EXERCISES"
   ]
  },
  {
   "cell_type": "markdown",
   "id": "8167a52e-2f61-44f1-b3ae-d0067ca692dd",
   "metadata": {},
   "source": [
    "Exercise 1: Matrix Multiplication\n",
    "Create two matrices A and B of size 3x3.\n",
    "Use NumPy's function to multiply the two matrices.\n",
    "Confirm the result by manually multiplying the matrices (element-wise and summing the results)."
   ]
  },
  {
   "cell_type": "code",
   "execution_count": 21,
   "id": "bf348339-ee22-4ca9-9e70-d71609e4c852",
   "metadata": {},
   "outputs": [
    {
     "name": "stdout",
     "output_type": "stream",
     "text": [
      "[[1 1 2]\n",
      " [2 2 1]\n",
      " [2 1 2]]\n",
      "[[1 2 2]\n",
      " [1 2 1]\n",
      " [2 1 2]]\n",
      "[[6 6 7]\n",
      " [6 9 8]\n",
      " [7 8 9]]\n"
     ]
    }
   ],
   "source": [
    "mat_A = np.array([[1,1,2], [2,2,1], [2,1,2]])\n",
    "mat_B = mat_A.T\n",
    "print(mat_A)\n",
    "print(mat_B)\n",
    "mat_AxB = np.dot(mat_A, mat_B)\n",
    "print(mat_AxB)"
   ]
  },
  {
   "cell_type": "markdown",
   "id": "1e447045-337a-4911-8eba-c02f7c5b9f07",
   "metadata": {},
   "source": [
    "Exercise 2: Transpose of a Matrix\n",
    "Create a 4x4 random matrix.\n",
    "Find its transpose using NumPy.\n",
    "Check if transposing the transpose gives back the original matrix."
   ]
  },
  {
   "cell_type": "code",
   "execution_count": 22,
   "id": "8be63e18-b9c5-4d25-ad82-b4f0439a890d",
   "metadata": {},
   "outputs": [
    {
     "name": "stdout",
     "output_type": "stream",
     "text": [
      "[[2 4 3 1]\n",
      " [0 0 0 1]\n",
      " [0 3 2 0]\n",
      " [2 3 0 2]]\n"
     ]
    }
   ],
   "source": [
    "mat_4x4 = np.random.randint(5, size=(4,4))\n",
    "print(mat_4x4)"
   ]
  },
  {
   "cell_type": "code",
   "execution_count": 23,
   "id": "19ef11e4-7e95-4d4c-b6c1-625d8c8a2b72",
   "metadata": {},
   "outputs": [
    {
     "name": "stdout",
     "output_type": "stream",
     "text": [
      "[[2 0 0 2]\n",
      " [4 0 3 3]\n",
      " [3 0 2 0]\n",
      " [1 1 0 2]]\n"
     ]
    }
   ],
   "source": [
    "mat_4x4_t = mat_4x4.T\n",
    "print(mat_4x4_t)"
   ]
  },
  {
   "cell_type": "markdown",
   "id": "38c69640-7ea2-4963-bcc5-084064196535",
   "metadata": {},
   "source": [
    "Exercise 3: Inverse of a Matrix\n",
    "Create a 3x3 matrix.\n",
    "Check if it's invertible by calculating the determinant.\n",
    "If it's invertible, find the inverse matrix using NumPy.\n",
    "Multiply the original matrix by its inverse to check if the result is the identity matrix."
   ]
  },
  {
   "cell_type": "code",
   "execution_count": 24,
   "id": "bd4900ed-f8ea-4d8e-80ce-0b3e310e4b7c",
   "metadata": {},
   "outputs": [
    {
     "name": "stdout",
     "output_type": "stream",
     "text": [
      "[[0 2 0]\n",
      " [4 2 1]\n",
      " [1 4 3]]\n"
     ]
    }
   ],
   "source": [
    "mat_3x3 = np.random.randint(5, size=(3, 3))\n",
    "print(mat_3x3)"
   ]
  },
  {
   "cell_type": "code",
   "execution_count": 26,
   "id": "1de93970-e607-453b-bebf-970ad6257f38",
   "metadata": {},
   "outputs": [
    {
     "name": "stdout",
     "output_type": "stream",
     "text": [
      "-22.000000000000004\n"
     ]
    }
   ],
   "source": [
    "det_mat_3x3 = np.linalg.det(mat_3x3)\n",
    "print(det_mat_3x3)"
   ]
  },
  {
   "cell_type": "code",
   "execution_count": 27,
   "id": "5dbcf9eb-18c3-41a1-b5e4-b65f38683e26",
   "metadata": {},
   "outputs": [
    {
     "name": "stdout",
     "output_type": "stream",
     "text": [
      "[[-9.09090909e-02  2.72727273e-01 -9.09090909e-02]\n",
      " [ 5.00000000e-01 -7.93016446e-18  3.17206578e-17]\n",
      " [-6.36363636e-01 -9.09090909e-02  3.63636364e-01]]\n"
     ]
    }
   ],
   "source": [
    "inv_mat_3x3 = np.linalg.inv(mat_3x3)\n",
    "print(inv_mat_3x3)"
   ]
  },
  {
   "cell_type": "markdown",
   "id": "efde27c6-2a48-40b3-99ff-f4b3fe13007b",
   "metadata": {},
   "source": [
    "Exercise 4: Eigenvalues and Eigenvectors\n",
    "Create a 3x3 matrix.\n",
    "Use NumPy to calculate its eigenvalues and eigenvectors.\n",
    "Verify that multiplying the matrix by an eigenvector results in a scaled version of the eigenvector."
   ]
  },
  {
   "cell_type": "code",
   "execution_count": 28,
   "id": "cd2e51dc-0e8f-42ff-9d3f-2a6c88404d01",
   "metadata": {},
   "outputs": [
    {
     "name": "stdout",
     "output_type": "stream",
     "text": [
      "[[6 5 2]\n",
      " [0 1 1]\n",
      " [2 4 2]]\n"
     ]
    }
   ],
   "source": [
    "mat_3x3 = np.random.randint(7, size=(3, 3))\n",
    "print(mat_3x3)"
   ]
  },
  {
   "cell_type": "code",
   "execution_count": 32,
   "id": "b41320de-ca1b-41dd-8e55-2274bd3a489e",
   "metadata": {},
   "outputs": [
    {
     "name": "stdout",
     "output_type": "stream",
     "text": [
      "[ 7.22386109  2.16056626 -0.38442735]\n",
      "[[-0.91458239 -0.77957019  0.20047364]\n",
      " [-0.06415289  0.4088313  -0.57365577]\n",
      " [-0.39927868  0.47447581  0.79418473]]\n"
     ]
    }
   ],
   "source": [
    "eig_val, eig_vec = np.linalg.eig(mat_3x3)\n",
    "print(eig_val)\n",
    "print(eig_vec)"
   ]
  },
  {
   "cell_type": "code",
   "execution_count": null,
   "id": "12845f14-2ff6-4c65-99ac-5e90530d4b81",
   "metadata": {},
   "outputs": [],
   "source": []
  }
 ],
 "metadata": {
  "kernelspec": {
   "display_name": "Python 3 (ipykernel)",
   "language": "python",
   "name": "python3"
  },
  "language_info": {
   "codemirror_mode": {
    "name": "ipython",
    "version": 3
   },
   "file_extension": ".py",
   "mimetype": "text/x-python",
   "name": "python",
   "nbconvert_exporter": "python",
   "pygments_lexer": "ipython3",
   "version": "3.10.12"
  }
 },
 "nbformat": 4,
 "nbformat_minor": 5
}
