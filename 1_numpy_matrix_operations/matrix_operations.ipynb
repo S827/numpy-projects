{
 "cells": [
  {
   "cell_type": "code",
   "execution_count": 4,
   "id": "641ad47b-2e02-4341-bc4b-d7f0afc4e3b5",
   "metadata": {},
   "outputs": [],
   "source": [
    "#NumPy is the core library for numerical computations in Python. We’ll use it to create and manipulate matrices.\n",
    "import numpy as np"
   ]
  },
  {
   "cell_type": "code",
   "execution_count": 5,
   "id": "f9135034-9a23-4a28-8392-4b41f3152505",
   "metadata": {},
   "outputs": [
    {
     "data": {
      "text/plain": [
       "array([[1, 2, 3],\n",
       "       [4, 5, 6],\n",
       "       [7, 8, 9]])"
      ]
     },
     "execution_count": 5,
     "metadata": {},
     "output_type": "execute_result"
    }
   ],
   "source": [
    "# Create a 3x3 matrix:\n",
    "matrix_1 = np.array([[1,2,3],[4,5,6],[7,8,9]])\n",
    "matrix_1"
   ]
  },
  {
   "cell_type": "markdown",
   "id": "4a94b921-f63a-48f9-a625-79efbb5971a7",
   "metadata": {},
   "source": [
    "### 3. Perform Matrix Addition:"
   ]
  },
  {
   "cell_type": "code",
   "execution_count": 11,
   "id": "29b5c7d7-e159-4973-86f9-f6fb66d81b3f",
   "metadata": {},
   "outputs": [
    {
     "data": {
      "text/plain": [
       "array([[9, 8, 7],\n",
       "       [6, 5, 4],\n",
       "       [3, 2, 1]])"
      ]
     },
     "execution_count": 11,
     "metadata": {},
     "output_type": "execute_result"
    }
   ],
   "source": [
    "matrix_2 = np.array([[9, 8, 7], [6, 5, 4], [3, 2, 1]])\n",
    "matrix_2"
   ]
  },
  {
   "cell_type": "code",
   "execution_count": 12,
   "id": "41edb0e4-df61-4fd6-9d29-c4519abc3360",
   "metadata": {},
   "outputs": [
    {
     "data": {
      "text/plain": [
       "array([[10, 10, 10],\n",
       "       [10, 10, 10],\n",
       "       [10, 10, 10]])"
      ]
     },
     "execution_count": 12,
     "metadata": {},
     "output_type": "execute_result"
    }
   ],
   "source": [
    "matrix_sum = matrix_1 + matrix_2\n",
    "matrix_sum"
   ]
  },
  {
   "cell_type": "markdown",
   "id": "2689788d-00f8-4463-a2a2-4ed9f896fce2",
   "metadata": {},
   "source": [
    "### 4. Matrix multiplication"
   ]
  },
  {
   "cell_type": "markdown",
   "id": "0585e3f1-2faf-4d29-b6d4-2e44cdfebc75",
   "metadata": {},
   "source": [
    "#### 1. Element wise multiplication"
   ]
  },
  {
   "cell_type": "code",
   "execution_count": 8,
   "id": "fc14d0d0-9de5-4f53-8ed2-c2fc7a64d87f",
   "metadata": {},
   "outputs": [
    {
     "data": {
      "text/plain": [
       "array([[ 9, 16, 21],\n",
       "       [24, 25, 24],\n",
       "       [21, 16,  9]])"
      ]
     },
     "execution_count": 8,
     "metadata": {},
     "output_type": "execute_result"
    }
   ],
   "source": [
    "element_wise_product = matrix_1 * matrix_2\n",
    "element_wise_product"
   ]
  },
  {
   "cell_type": "markdown",
   "id": "8058e285-fcdc-4d38-9ea9-2e02db3652b6",
   "metadata": {},
   "source": [
    "#### 2. Matrix multiplication (dot product)"
   ]
  },
  {
   "cell_type": "code",
   "execution_count": 9,
   "id": "b86fc581-76c1-4cca-ac0e-071159ead958",
   "metadata": {},
   "outputs": [
    {
     "data": {
      "text/plain": [
       "array([[ 30,  24,  18],\n",
       "       [ 84,  69,  54],\n",
       "       [138, 114,  90]])"
      ]
     },
     "execution_count": 9,
     "metadata": {},
     "output_type": "execute_result"
    }
   ],
   "source": [
    "dot_product = matrix_1 @ matrix_2 # mat1 1st row * mat2 1st col, mat2 1st row * mat\n",
    "dot_product"
   ]
  },
  {
   "cell_type": "code",
   "execution_count": 10,
   "id": "19d10566-b3b6-4e40-9381-ccf7c2c533de",
   "metadata": {},
   "outputs": [
    {
     "data": {
      "text/plain": [
       "array([[ 30,  24,  18],\n",
       "       [ 84,  69,  54],\n",
       "       [138, 114,  90]])"
      ]
     },
     "execution_count": 10,
     "metadata": {},
     "output_type": "execute_result"
    }
   ],
   "source": [
    "dot_prod = np.dot(matrix_1, matrix_2)\n",
    "dot_prod"
   ]
  },
  {
   "cell_type": "code",
   "execution_count": null,
   "id": "13483148-e8ea-4c0c-a74c-3c32ccf9a643",
   "metadata": {},
   "outputs": [],
   "source": []
  }
 ],
 "metadata": {
  "kernelspec": {
   "display_name": "Python 3 (ipykernel)",
   "language": "python",
   "name": "python3"
  },
  "language_info": {
   "codemirror_mode": {
    "name": "ipython",
    "version": 3
   },
   "file_extension": ".py",
   "mimetype": "text/x-python",
   "name": "python",
   "nbconvert_exporter": "python",
   "pygments_lexer": "ipython3",
   "version": "3.10.12"
  }
 },
 "nbformat": 4,
 "nbformat_minor": 5
}
