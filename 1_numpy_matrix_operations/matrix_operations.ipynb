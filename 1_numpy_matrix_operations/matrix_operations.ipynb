{
 "cells": [
  {
   "cell_type": "code",
   "execution_count": 4,
   "id": "641ad47b-2e02-4341-bc4b-d7f0afc4e3b5",
   "metadata": {},
   "outputs": [],
   "source": [
    "#NumPy is the core library for numerical computations in Python. We’ll use it to create and manipulate matrices.\n",
    "import numpy as np"
   ]
  },
  {
   "cell_type": "code",
   "execution_count": 5,
   "id": "f9135034-9a23-4a28-8392-4b41f3152505",
   "metadata": {},
   "outputs": [
    {
     "data": {
      "text/plain": [
       "array([[1, 2, 3],\n",
       "       [4, 5, 6],\n",
       "       [7, 8, 9]])"
      ]
     },
     "execution_count": 5,
     "metadata": {},
     "output_type": "execute_result"
    }
   ],
   "source": [
    "# Create a 3x3 matrix:\n",
    "matrix_1 = np.array([[1,2,3],[4,5,6],[7,8,9]])\n",
    "matrix_1"
   ]
  },
  {
   "cell_type": "markdown",
   "id": "4a94b921-f63a-48f9-a625-79efbb5971a7",
   "metadata": {},
   "source": [
    "### 3. Perform Matrix Addition:"
   ]
  },
  {
   "cell_type": "code",
   "execution_count": 6,
   "id": "41edb0e4-df61-4fd6-9d29-c4519abc3360",
   "metadata": {},
   "outputs": [
    {
     "data": {
      "text/plain": [
       "array([[10, 10, 10],\n",
       "       [10, 10, 10],\n",
       "       [10, 10, 10]])"
      ]
     },
     "execution_count": 6,
     "metadata": {},
     "output_type": "execute_result"
    }
   ],
   "source": [
    "matrix_2 = np.array([[9, 8, 7], [6, 5, 4], [3, 2, 1]])\n",
    "matrix_sum = matrix_1 + matrix_2\n",
    "matrix_sum"
   ]
  },
  {
   "cell_type": "code",
   "execution_count": null,
   "id": "0181d918-f50a-429c-a23e-05a9a10baff8",
   "metadata": {},
   "outputs": [],
   "source": []
  }
 ],
 "metadata": {
  "kernelspec": {
   "display_name": "Python 3 (ipykernel)",
   "language": "python",
   "name": "python3"
  },
  "language_info": {
   "codemirror_mode": {
    "name": "ipython",
    "version": 3
   },
   "file_extension": ".py",
   "mimetype": "text/x-python",
   "name": "python",
   "nbconvert_exporter": "python",
   "pygments_lexer": "ipython3",
   "version": "3.10.12"
  }
 },
 "nbformat": 4,
 "nbformat_minor": 5
}
